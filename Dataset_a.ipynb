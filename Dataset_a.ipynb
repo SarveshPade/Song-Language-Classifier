{
 "cells": [
  {
   "cell_type": "markdown",
   "metadata": {},
   "source": [
    "# 1. Collect Diverse Song Samples"
   ]
  },
  {
   "cell_type": "markdown",
   "metadata": {},
   "source": [
    "Diverse Song Samples Collected From Github Repository."
   ]
  },
  {
   "cell_type": "markdown",
   "metadata": {},
   "source": [
    "# 2. Preprocess Audio Files"
   ]
  },
  {
   "cell_type": "markdown",
   "metadata": {},
   "source": [
    "Build a Function which takes input as an audio file,\n",
    "1. Normalizes the audio to a certain threshold and returns the normalized wave tensor,\n",
    "2. Removes it's non-vocal Section and returns the wave tensor of the vocal section,\n",
    "3. Splits it into equal shape tensors,\n",
    "4. and then saves the splitted wave tensors into .wav file format into a new Directory (Dataset)."
   ]
  },
  {
   "cell_type": "markdown",
   "metadata": {},
   "source": [
    "## A. Import all the necessary Libraries"
   ]
  },
  {
   "cell_type": "code",
   "execution_count": 11,
   "metadata": {},
   "outputs": [
    {
     "name": "stdout",
     "output_type": "stream",
     "text": [
      "PyTorch Version: 2.4.1\n",
      "Cuda Avalilable: True\n"
     ]
    }
   ],
   "source": [
    "import os\n",
    "import torchaudio\n",
    "import torch\n",
    "from typing import List\n",
    "\n",
    "from IPython.display import Audio\n",
    "\n",
    "print(f\"PyTorch Version: {torch.__version__}\")\n",
    "print(f\"Cuda Avalilable: {torch.cuda.is_available()}\")"
   ]
  },
  {
   "cell_type": "code",
   "execution_count": 12,
   "metadata": {},
   "outputs": [],
   "source": [
    "device = \"cuda\" if torch.cuda.is_available() else \"cpu\""
   ]
  },
  {
   "cell_type": "markdown",
   "metadata": {},
   "source": [
    "## B. Import all the helper functions to Normalize, Remove non-vocal Section, Split into Chunks and Save the Chunks in the Desired Directory."
   ]
  },
  {
   "cell_type": "code",
   "execution_count": 13,
   "metadata": {},
   "outputs": [],
   "source": [
    "from helper_functions import convert_to_wav\n",
    "from helper_functions import normalize\n",
    "from helper_functions import remove_non_vocals\n",
    "from helper_functions import separate_sources\n",
    "from helper_functions import split_into_equal_tensors\n",
    "from helper_functions import save_tensors_to_directory"
   ]
  },
  {
   "cell_type": "code",
   "execution_count": 14,
   "metadata": {},
   "outputs": [],
   "source": [
    "def make_preprocessed_dataset(raw_dataset_path: str, output_dir: str, class_names: List[str], dB: int, window_size: int, hop_length:int, device: torch.device):\n",
    "    classes_path = [os.path.join(raw_dataset_path, classes) for classes in class_names]\n",
    "    \n",
    "    for classes, class_name in zip(classes_path, class_names):\n",
    "        print(f\"Class: {class_name}\")\n",
    "        for file_name in os.listdir(classes):\n",
    "            file_path = os.path.join(classes, file_name)\n",
    "            \n",
    "            if os.path.basename(file_name).split(\".\")[-1] == \"wav\":\n",
    "                wave_tensor, sr = torchaudio.load(uri=file_path)\n",
    "                wave_tensor = normalize(wave_tensor, dB=dB, device=device)\n",
    "                \n",
    "                wave_tensor = separate_sources(mix=wave_tensor.unsqueeze(0),\n",
    "                                               segment=5,\n",
    "                                               overlap=3,\n",
    "                                               device=device)\n",
    "                \n",
    "                wave_chunk = split_into_equal_tensors(wave_tensor,\n",
    "                                                      window_size=window_size,\n",
    "                                                      hop_length=hop_length,\n",
    "                                                      device=device)\n",
    "                \n",
    "                save_tensors_to_directory(wave_chunk, sr=sr, input_path=file_path, output_dir=output_dir, class_name=class_name)\n",
    "        print(f\"All Files of class \\\"{class_name}\\\" have been preprocessed and saved in the Output Directory \\\"{os.path.basename(output_dir)}\\\"\")\n",
    "        print()\n",
    "    print(f\"Preprocessing of audio files from Dataset \\\"{os.path.basename(raw_dataset_path)}\\\" is finished\")"
   ]
  },
  {
   "cell_type": "code",
   "execution_count": 15,
   "metadata": {},
   "outputs": [
    {
     "name": "stdout",
     "output_type": "stream",
     "text": [
      "Class: English\n",
      "Saved chunks of Dabin - Alive in D:\\Sarvesh\\VIT Stuff\\2024-25 Fall Sem\\Song Language Detector\\Dataset\\English\n",
      "Saved chunks of OneRepublic - If I Lose Myself in D:\\Sarvesh\\VIT Stuff\\2024-25 Fall Sem\\Song Language Detector\\Dataset\\English\n",
      "Saved chunks of Said The Sky - Potions in D:\\Sarvesh\\VIT Stuff\\2024-25 Fall Sem\\Song Language Detector\\Dataset\\English\n",
      "Saved chunks of Seven Lions - First Time in D:\\Sarvesh\\VIT Stuff\\2024-25 Fall Sem\\Song Language Detector\\Dataset\\English\n",
      "Saved chunks of Shallou - You and Me in D:\\Sarvesh\\VIT Stuff\\2024-25 Fall Sem\\Song Language Detector\\Dataset\\English\n",
      "All Files of class \"English\" have been preprocessed and saved in the Output Directory \"Dataset\"\n",
      "\n",
      "Class: French\n",
      "Saved chunks of Aya Nakamura - Djadja (Clip officiel) in D:\\Sarvesh\\VIT Stuff\\2024-25 Fall Sem\\Song Language Detector\\Dataset\\French\n",
      "Saved chunks of Indila - Dernière Danse (Clip Officiel) in D:\\Sarvesh\\VIT Stuff\\2024-25 Fall Sem\\Song Language Detector\\Dataset\\French\n",
      "Saved chunks of L'Algérino - Les Menottes (Tching Tchang Tchong) in D:\\Sarvesh\\VIT Stuff\\2024-25 Fall Sem\\Song Language Detector\\Dataset\\French\n",
      "Saved chunks of Maître Gims - Bella (Clip officiel) in D:\\Sarvesh\\VIT Stuff\\2024-25 Fall Sem\\Song Language Detector\\Dataset\\French\n",
      "Saved chunks of Stromae - papaoutai (Official Video) in D:\\Sarvesh\\VIT Stuff\\2024-25 Fall Sem\\Song Language Detector\\Dataset\\French\n",
      "All Files of class \"French\" have been preprocessed and saved in the Output Directory \"Dataset\"\n",
      "\n",
      "Class: Hindi\n",
      "Saved chunks of Aditya Rikhari - Dil Hai Na in D:\\Sarvesh\\VIT Stuff\\2024-25 Fall Sem\\Song Language Detector\\Dataset\\Hindi\n",
      "Saved chunks of Anupam Roy - Aisi Raaton in D:\\Sarvesh\\VIT Stuff\\2024-25 Fall Sem\\Song Language Detector\\Dataset\\Hindi\n",
      "Saved chunks of Bhuvan Bam - Ajnabee in D:\\Sarvesh\\VIT Stuff\\2024-25 Fall Sem\\Song Language Detector\\Dataset\\Hindi\n",
      "Saved chunks of The Local Train - Aaoge Tum Kabhi in D:\\Sarvesh\\VIT Stuff\\2024-25 Fall Sem\\Song Language Detector\\Dataset\\Hindi\n",
      "Saved chunks of The Local Train - Choo Lo in D:\\Sarvesh\\VIT Stuff\\2024-25 Fall Sem\\Song Language Detector\\Dataset\\Hindi\n",
      "All Files of class \"Hindi\" have been preprocessed and saved in the Output Directory \"Dataset\"\n",
      "\n",
      "Class: Japanese\n",
      "Saved chunks of RADWIMPS - Celebration in D:\\Sarvesh\\VIT Stuff\\2024-25 Fall Sem\\Song Language Detector\\Dataset\\Japanese\n",
      "Saved chunks of radwimps - Dream lantern in D:\\Sarvesh\\VIT Stuff\\2024-25 Fall Sem\\Song Language Detector\\Dataset\\Japanese\n",
      "Saved chunks of RADWIMPS - Katawaredoki in D:\\Sarvesh\\VIT Stuff\\2024-25 Fall Sem\\Song Language Detector\\Dataset\\Japanese\n",
      "Saved chunks of RADWIMPS - Nandemonaiya (Movie Edit.) in D:\\Sarvesh\\VIT Stuff\\2024-25 Fall Sem\\Song Language Detector\\Dataset\\Japanese\n",
      "Saved chunks of RADWIMPS - Sparkle - Movie Ver. in D:\\Sarvesh\\VIT Stuff\\2024-25 Fall Sem\\Song Language Detector\\Dataset\\Japanese\n",
      "All Files of class \"Japanese\" have been preprocessed and saved in the Output Directory \"Dataset\"\n",
      "\n",
      "Class: Spanish\n",
      "Saved chunks of Farruko - Pepas (LetraLyrics) in D:\\Sarvesh\\VIT Stuff\\2024-25 Fall Sem\\Song Language Detector\\Dataset\\Spanish\n",
      "Saved chunks of KAROL G - Provenza (Official Video) in D:\\Sarvesh\\VIT Stuff\\2024-25 Fall Sem\\Song Language Detector\\Dataset\\Spanish\n",
      "Saved chunks of Los Ángeles Azules - Nunca Es Suficiente ft. Natalia Lafourcade (Live) in D:\\Sarvesh\\VIT Stuff\\2024-25 Fall Sem\\Song Language Detector\\Dataset\\Spanish\n",
      "Saved chunks of Luis Fonsi - Despacito ft. Daddy Yankee in D:\\Sarvesh\\VIT Stuff\\2024-25 Fall Sem\\Song Language Detector\\Dataset\\Spanish\n",
      "Saved chunks of Melendi - Destino o Casualidad ft. HaAsh in D:\\Sarvesh\\VIT Stuff\\2024-25 Fall Sem\\Song Language Detector\\Dataset\\Spanish\n",
      "All Files of class \"Spanish\" have been preprocessed and saved in the Output Directory \"Dataset\"\n",
      "\n",
      "Preprocessing of audio files from Dataset \"DataBase\" is finished\n"
     ]
    }
   ],
   "source": [
    "raw_dataset_path = r\"D:\\Sarvesh\\VIT Stuff\\2024-25 Fall Sem\\Song Language Detector\\Song-Language-Classifier\\DataBase\"\n",
    "\n",
    "get_classes = (lambda input_directory: [label for label in os.listdir(input_directory) if os.path.isdir(os.path.join(raw_dataset_path, label))])\n",
    "get_classes(raw_dataset_path)\n",
    "\n",
    "output_directory = r\"D:\\Sarvesh\\VIT Stuff\\2024-25 Fall Sem\\Song Language Detector\\Dataset\"\n",
    "\n",
    "\n",
    "make_preprocessed_dataset(raw_dataset_path=raw_dataset_path,\n",
    "                          output_dir=output_directory,\n",
    "                          class_names=get_classes(raw_dataset_path),\n",
    "                          dB=60,\n",
    "                          window_size=int(10*44100),\n",
    "                          hop_length=int(5*44100),\n",
    "                          device=device)"
   ]
  },
  {
   "cell_type": "markdown",
   "metadata": {},
   "source": [
    "# 3. Extract Relevent Features"
   ]
  },
  {
   "cell_type": "code",
   "execution_count": null,
   "metadata": {},
   "outputs": [],
   "source": []
  },
  {
   "cell_type": "markdown",
   "metadata": {},
   "source": [
    "### &nbsp; &nbsp; a. Mel-frequency Cepstral Coefficients (MFCCs)"
   ]
  },
  {
   "cell_type": "code",
   "execution_count": null,
   "metadata": {},
   "outputs": [],
   "source": []
  },
  {
   "cell_type": "markdown",
   "metadata": {},
   "source": [
    "### &nbsp; &nbsp; b. Spectrograms"
   ]
  },
  {
   "cell_type": "code",
   "execution_count": null,
   "metadata": {},
   "outputs": [],
   "source": []
  },
  {
   "cell_type": "markdown",
   "metadata": {},
   "source": [
    "# 4. Label Data"
   ]
  },
  {
   "cell_type": "code",
   "execution_count": null,
   "metadata": {},
   "outputs": [],
   "source": []
  },
  {
   "cell_type": "markdown",
   "metadata": {},
   "source": [
    "# 5. Split Dataset"
   ]
  },
  {
   "cell_type": "code",
   "execution_count": null,
   "metadata": {},
   "outputs": [],
   "source": []
  },
  {
   "cell_type": "markdown",
   "metadata": {},
   "source": [
    "# 6. Data Augmentation (Optional)"
   ]
  },
  {
   "cell_type": "code",
   "execution_count": null,
   "metadata": {},
   "outputs": [],
   "source": []
  }
 ],
 "metadata": {
  "kernelspec": {
   "display_name": "AudioAnalysis",
   "language": "python",
   "name": "python3"
  },
  "language_info": {
   "codemirror_mode": {
    "name": "ipython",
    "version": 3
   },
   "file_extension": ".py",
   "mimetype": "text/x-python",
   "name": "python",
   "nbconvert_exporter": "python",
   "pygments_lexer": "ipython3",
   "version": "3.12.5"
  }
 },
 "nbformat": 4,
 "nbformat_minor": 2
}
